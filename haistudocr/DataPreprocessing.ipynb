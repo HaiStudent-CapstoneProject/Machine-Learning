{
 "cells": [
  {
   "cell_type": "markdown",
   "metadata": {},
   "source": [
    "# Data Preprocessing"
   ]
  },
  {
   "cell_type": "code",
   "execution_count": 1,
   "metadata": {},
   "outputs": [],
   "source": [
    "CROHME_PATH = './data/crohme/'\n",
    "EMNIST_PATH = './data/emnist/'\n",
    "\n",
    "test_processed = EMNIST_PATH + 'processed_balanced_test.csv'\n",
    "test_raw = EMNIST_PATH + 'emnist-balanced-test.csv'\n",
    "\n",
    "train_processed = EMNIST_PATH + 'processed_balanced_train.csv'\n",
    "train_raw = EMNIST_PATH + 'emnist-balanced-train.csv'\n",
    "\n",
    "mapping_processed = EMNIST_PATH + 'processed-mapping.csv'\n",
    "mapping_raw = EMNIST_PATH + 'emnist-balanced-mapping.txt'"
   ]
  },
  {
   "cell_type": "markdown",
   "metadata": {},
   "source": [
    "## Remove duplicated images from CROHME dataset"
   ]
  },
  {
   "cell_type": "code",
   "execution_count": 2,
   "metadata": {},
   "outputs": [
    {
     "name": "stdout",
     "output_type": "stream",
     "text": [
      "Directory: ./data/crohme/!\n"
     ]
    },
    {
     "name": "stderr",
     "output_type": "stream",
     "text": [
      "C:\\Users\\LENOVO\\AppData\\Local\\Temp\\ipykernel_3888\\2376504418.py:20: DeprecationWarning: Starting with ImageIO v3 the behavior of this function will switch to that of iio.v3.imread. To keep the current behavior (and make this warning disappear) use `import imageio.v2 as imageio` or call `imageio.v2.imread` directly.\n",
      "  imi = imageio.imread(filei)\n"
     ]
    },
    {
     "name": "stdout",
     "output_type": "stream",
     "text": [
      "Repeat/Total: 0/224\n",
      "Directory: ./data/crohme/(\n",
      "Repeat/Total: 0/3986\n",
      "Directory: ./data/crohme/)\n",
      "Repeat/Total: 0/3978\n",
      "Directory: ./data/crohme/+\n",
      "Repeat/Total: 0/5443\n",
      "Directory: ./data/crohme/,\n",
      "Repeat/Total: 0/596\n",
      "Directory: ./data/crohme/-\n",
      "Repeat/Total: 0/6022\n",
      "Directory: ./data/crohme/0\n",
      "Repeat/Total: 0/1810\n",
      "Directory: ./data/crohme/1\n",
      "Repeat/Total: 0/6327\n",
      "Directory: ./data/crohme/2\n",
      "Repeat/Total: 0/6210\n",
      "Directory: ./data/crohme/3\n",
      "Repeat/Total: 0/2469\n",
      "Directory: ./data/crohme/4\n",
      "Repeat/Total: 0/1641\n",
      "Directory: ./data/crohme/5\n",
      "Repeat/Total: 0/1008\n",
      "Directory: ./data/crohme/6\n",
      "Repeat/Total: 0/812\n",
      "Directory: ./data/crohme/7\n",
      "Repeat/Total: 0/753\n",
      "Directory: ./data/crohme/8\n",
      "Repeat/Total: 0/731\n",
      "Directory: ./data/crohme/9\n",
      "Repeat/Total: 0/742\n",
      "Directory: ./data/crohme/=\n",
      "Repeat/Total: 0/3640\n",
      "Directory: ./data/crohme/A\n",
      "Repeat/Total: 0/2724\n",
      "Directory: ./data/crohme/alpha\n",
      "Repeat/Total: 0/383\n",
      "Directory: ./data/crohme/ascii_124\n",
      "Repeat/Total: 0/348\n",
      "Directory: ./data/crohme/b\n",
      "Repeat/Total: 0/1830\n",
      "Directory: ./data/crohme/beta\n",
      "Repeat/Total: 0/295\n",
      "Directory: ./data/crohme/C\n",
      "Repeat/Total: 0/1194\n",
      "Directory: ./data/crohme/cos\n",
      "Repeat/Total: 0/574\n",
      "Directory: ./data/crohme/d\n",
      "Repeat/Total: 0/1062\n",
      "Directory: ./data/crohme/Delta\n",
      "Repeat/Total: 0/35\n",
      "Directory: ./data/crohme/div\n",
      "Repeat/Total: 0/157\n",
      "Directory: ./data/crohme/e\n",
      "Repeat/Total: 0/616\n",
      "Directory: ./data/crohme/exists\n",
      "Repeat/Total: 0/4\n",
      "Directory: ./data/crohme/f\n",
      "Repeat/Total: 0/848\n",
      "Directory: ./data/crohme/forall\n",
      "Repeat/Total: 0/9\n",
      "Directory: ./data/crohme/forward_slash\n",
      "Repeat/Total: 0/196\n",
      "Directory: ./data/crohme/G\n",
      "Repeat/Total: 0/409\n",
      "Directory: ./data/crohme/gamma\n",
      "Repeat/Total: 0/90\n",
      "Directory: ./data/crohme/geq\n",
      "Repeat/Total: 0/147\n",
      "Directory: ./data/crohme/gt\n",
      "Repeat/Total: 0/65\n",
      "Directory: ./data/crohme/H\n",
      "Repeat/Total: 0/369\n",
      "Directory: ./data/crohme/i\n",
      "Repeat/Total: 0/1027\n",
      "Directory: ./data/crohme/in\n",
      "Repeat/Total: 0/15\n",
      "Directory: ./data/crohme/infty\n",
      "Repeat/Total: 0/386\n",
      "Directory: ./data/crohme/int\n",
      "Repeat/Total: 0/606\n",
      "Directory: ./data/crohme/j\n",
      "Repeat/Total: 0/303\n",
      "Directory: ./data/crohme/k\n",
      "Repeat/Total: 0/666\n",
      "Directory: ./data/crohme/l\n",
      "Repeat/Total: 0/255\n",
      "Directory: ./data/crohme/lambda\n",
      "Repeat/Total: 0/27\n",
      "Directory: ./data/crohme/ldots\n",
      "Repeat/Total: 0/139\n",
      "Directory: ./data/crohme/leq\n",
      "Repeat/Total: 0/220\n",
      "Directory: ./data/crohme/lim\n",
      "Repeat/Total: 0/293\n",
      "Directory: ./data/crohme/log\n",
      "Repeat/Total: 0/302\n",
      "Directory: ./data/crohme/lt\n",
      "Repeat/Total: 0/106\n",
      "Directory: ./data/crohme/M\n",
      "Repeat/Total: 0/576\n",
      "Directory: ./data/crohme/mu\n",
      "Repeat/Total: 0/46\n",
      "Directory: ./data/crohme/N\n",
      "Repeat/Total: 0/2403\n",
      "Directory: ./data/crohme/neq\n",
      "Repeat/Total: 0/111\n",
      "Directory: ./data/crohme/o\n",
      "Repeat/Total: 0/112\n",
      "Directory: ./data/crohme/p\n",
      "Repeat/Total: 0/676\n",
      "Directory: ./data/crohme/phi\n",
      "Repeat/Total: 0/83\n",
      "Directory: ./data/crohme/pi\n",
      "Repeat/Total: 0/498\n",
      "Directory: ./data/crohme/pm\n",
      "Repeat/Total: 0/153\n",
      "Directory: ./data/crohme/prime\n",
      "Repeat/Total: 0/76\n",
      "Directory: ./data/crohme/q\n",
      "Repeat/Total: 0/308\n",
      "Directory: ./data/crohme/R\n",
      "Repeat/Total: 0/674\n",
      "Directory: ./data/crohme/rightarrow\n",
      "Repeat/Total: 0/299\n",
      "Directory: ./data/crohme/S\n",
      "Repeat/Total: 0/355\n",
      "Directory: ./data/crohme/sigma\n",
      "Repeat/Total: 0/52\n",
      "Directory: ./data/crohme/sin\n",
      "Repeat/Total: 0/783\n",
      "Directory: ./data/crohme/sqrt\n",
      "Repeat/Total: 0/1649\n",
      "Directory: ./data/crohme/sum\n",
      "Repeat/Total: 0/642\n",
      "Directory: ./data/crohme/T\n",
      "Repeat/Total: 0/795\n",
      "Directory: ./data/crohme/tan\n",
      "Repeat/Total: 0/281\n",
      "Directory: ./data/crohme/theta\n",
      "Repeat/Total: 0/543\n",
      "Directory: ./data/crohme/times\n",
      "Repeat/Total: 0/600\n",
      "Directory: ./data/crohme/u\n",
      "Repeat/Total: 0/321\n",
      "Directory: ./data/crohme/v\n",
      "Repeat/Total: 0/391\n",
      "Directory: ./data/crohme/w\n",
      "Repeat/Total: 0/139\n",
      "Directory: ./data/crohme/X\n",
      "Repeat/Total: 0/5333\n",
      "Directory: ./data/crohme/y\n",
      "Repeat/Total: 0/1895\n",
      "Directory: ./data/crohme/z\n",
      "Repeat/Total: 0/1075\n",
      "Directory: ./data/crohme/[\n",
      "Repeat/Total: 0/201\n",
      "Directory: ./data/crohme/]\n",
      "Repeat/Total: 0/201\n",
      "Directory: ./data/crohme/{\n",
      "Repeat/Total: 0/69\n",
      "Directory: ./data/crohme/}\n",
      "Repeat/Total: 0/69\n"
     ]
    }
   ],
   "source": [
    "import imageio\n",
    "import numpy as np\n",
    "import os\n",
    "\n",
    "images_path = CROHME_PATH\n",
    "\n",
    "# source - https://www.kaggle.com/xainano/handwrittenmathsymbols/discussion/85277\n",
    "def deletefromfolder(path):\n",
    "    datadir = path\n",
    "    print('Directory:', datadir)\n",
    "\n",
    "    rmmap = dict()\n",
    "    total = 0\n",
    "    repeatcnt = 0\n",
    "    for root, directories, filenames in os.walk(datadir):\n",
    "        for filename in filenames:\n",
    "            total += 1\n",
    "            if filename.endswith('.jpg') and not filename.startswith('._'):\n",
    "                filei = os.path.join(root, filename)\n",
    "                imi = imageio.imread(filei)\n",
    "                npi = np.asarray(imi).reshape(1, -1).reshape((2025, ))\n",
    "                idf = npi.tolist()\n",
    "                for i in range(len(idf)):\n",
    "                    idf[i] = str(idf[i])\n",
    "                strlist = ''.join(idf)\n",
    "\n",
    "                if strlist in rmmap.keys():\n",
    "                    repeatcnt += 1\n",
    "                    rmmap[strlist].append(filename)\n",
    "                else:\n",
    "                    rmmap[strlist] = list()\n",
    "\n",
    "    #for key in rmmap:\n",
    "    #    print(rmmap[key])\n",
    "    print('Repeat/Total: {}/{}'.format(repeatcnt, total))\n",
    "    for key in rmmap:\n",
    "        for item in rmmap[key]:\n",
    "            os.remove(os.path.join(datadir, item))\n",
    "\n",
    "dirlist = os.listdir(CROHME_PATH)\n",
    "for item in dirlist:\n",
    "    deletefromfolder(os.path.join(images_path,item))"
   ]
  },
  {
   "cell_type": "markdown",
   "metadata": {},
   "source": [
    "## Mapping"
   ]
  },
  {
   "cell_type": "code",
   "execution_count": 14,
   "metadata": {},
   "outputs": [],
   "source": [
    "import pandas as pd\n",
    "\n",
    "extra_chars = ['(', ')', '+', '-', '=']\n",
    "df = pd.read_csv(mapping_raw, sep = ' ', header=None, names=[\"id\", \"code\"])\n",
    "chars = []\n",
    "for x in df.code:\n",
    "    chars.append(chr(x))\n",
    "\n",
    "df[\"char\"] = chars\n",
    "nextId = df.shape[0]\n",
    "for i in range(nextId, nextId + len(extra_chars)):\n",
    "    c = extra_chars[i - nextId]\n",
    "    df.loc[i] = [i, ord(c), c]\n",
    "    \n",
    "df.to_csv(mapping_processed, index=False)"
   ]
  },
  {
   "cell_type": "markdown",
   "metadata": {},
   "source": [
    "## EMNIST data preprocessing"
   ]
  },
  {
   "cell_type": "code",
   "execution_count": 15,
   "metadata": {},
   "outputs": [],
   "source": [
    "import numpy as np\n",
    "import pandas as pd\n",
    "import os"
   ]
  },
  {
   "cell_type": "code",
   "execution_count": 16,
   "metadata": {},
   "outputs": [],
   "source": [
    "def mirror(X):\n",
    "    res = np.zeros(X.shape)\n",
    "    n = 28\n",
    "    for r in range(n, n**2 + 1, n):\n",
    "        l = r - n\n",
    "        for k in range(l, r):\n",
    "            index = l + (r - k - 1)\n",
    "            res[:,k] = X[:,index]\n",
    "            \n",
    "    return res        "
   ]
  },
  {
   "cell_type": "code",
   "execution_count": 17,
   "metadata": {},
   "outputs": [],
   "source": [
    "def rotate_clockwise(X):\n",
    "    res = np.zeros(X.shape)\n",
    "    size = 28\n",
    "    k = 0\n",
    "    for i in reversed(range(size)):\n",
    "        j = i\n",
    "        while j < size**2:\n",
    "            res[:,k] = X[:,j]\n",
    "            k += 1\n",
    "            j += size\n",
    "\n",
    "    return res\n",
    "\n",
    "def rotate(X, times):\n",
    "    for i in range(times):\n",
    "        X = rotate_clockwise(X)\n",
    "    \n",
    "    return X"
   ]
  },
  {
   "cell_type": "code",
   "execution_count": 18,
   "metadata": {},
   "outputs": [],
   "source": [
    "# TODO: remove one confusing character from pairs such as \"0\" and \"O\", \"I\", \"l\" and \"1\"\n",
    "def process_data(file_from, file_to):\n",
    "    label = 'label'\n",
    "    names = [label] + [\"px\" + str(i) for i in range(784)]\n",
    "    data = pd.read_csv(file_from, header=None, names=names)\n",
    "    \n",
    "    Y_data = data[label]\n",
    "    X_data = data.drop(labels = [label], axis = 1)\n",
    "    \n",
    "    X_data = X_data / 255\n",
    "    X_data = np.where(X_data > 0.5, 1, 0)\n",
    "    X_data = rotate(X_data, times=3)\n",
    "    X_data = mirror(X_data)\n",
    "    \n",
    "    data = pd.DataFrame(X_data, columns=names[1:], dtype='int')    \n",
    "    data.insert(0, label, Y_data)        \n",
    "    data.to_csv(file_to, index=False)"
   ]
  },
  {
   "cell_type": "code",
   "execution_count": 8,
   "metadata": {},
   "outputs": [],
   "source": [
    "process_data(train_raw, train_processed)\n",
    "process_data(test_raw, test_processed)"
   ]
  },
  {
   "cell_type": "markdown",
   "metadata": {},
   "source": [
    "## Image transformation to EMNIST format"
   ]
  },
  {
   "cell_type": "code",
   "execution_count": 19,
   "metadata": {},
   "outputs": [],
   "source": [
    "import os\n",
    "import numpy as np\n",
    "import pandas as pd\n",
    "from PIL import Image,ImageOps\n",
    "from random import sample "
   ]
  },
  {
   "cell_type": "code",
   "execution_count": 20,
   "metadata": {},
   "outputs": [],
   "source": [
    "df = pd.read_csv(mapping_processed)\n",
    "char2code = {}\n",
    "for index, row in df.iterrows():\n",
    "    char2code[row['char']] = row['id']"
   ]
  },
  {
   "cell_type": "code",
   "execution_count": 21,
   "metadata": {},
   "outputs": [],
   "source": [
    "import cv2\n",
    "\n",
    "def img2emnist(filepath, char_code):\n",
    "    img = cv2.imread(filepath, 0)\n",
    "    kernel = np.ones((3,3), np.uint8)\n",
    "    dilation = cv2.erode(img, kernel, iterations = 1)\n",
    "    \n",
    "    img = Image.fromarray(dilation).resize((28, 28))\n",
    "    inv_img = ImageOps.invert(img)\n",
    "    \n",
    "    flatten = np.array(inv_img).flatten()\n",
    "    flatten = flatten / 255\n",
    "    flatten = np.where(flatten > 0.5, 1, 0)\n",
    "    \n",
    "    csv_img = ','.join([str(num) for num in flatten])\n",
    "    csv_str = '{},{}'.format(char_code, csv_img)\n",
    "    return csv_str"
   ]
  },
  {
   "cell_type": "code",
   "execution_count": 22,
   "metadata": {},
   "outputs": [],
   "source": [
    "train_size = 2400\n",
    "test_size = 400"
   ]
  },
  {
   "cell_type": "code",
   "execution_count": 23,
   "metadata": {},
   "outputs": [
    {
     "name": "stdout",
     "output_type": "stream",
     "text": [
      "Processing \"(\" character...\n",
      "Processing \")\" character...\n",
      "Processing \"+\" character...\n",
      "Processing \"-\" character...\n",
      "Processing \"=\" character...\n"
     ]
    }
   ],
   "source": [
    "f_test = open(test_processed, 'a')\n",
    "f_train = open(train_processed, 'a')\n",
    "\n",
    "for c in extra_chars:\n",
    "    print('Processing \"{}\" character...'.format(c))\n",
    "    current_dir = CROHME_PATH + c + '/'\n",
    "    files = [f for r, d, f in os.walk(current_dir)]\n",
    "    subset = sample(files[0], train_size + test_size)\n",
    "    train_subset = subset[0:train_size]\n",
    "    test_subset = subset[train_size:train_size + test_size]\n",
    "    \n",
    "    for filename in train_subset:\n",
    "        csv_str = img2emnist(current_dir + filename, char2code[c])\n",
    "        print(csv_str, file=f_train)\n",
    "    \n",
    "    for filename in test_subset:\n",
    "        csv_str = img2emnist(current_dir + filename, char2code[c])\n",
    "        print(csv_str, file=f_test)\n",
    "\n",
    "f_test.close()\n",
    "f_train.close()"
   ]
  }
 ],
 "metadata": {
  "kernelspec": {
   "display_name": "venv",
   "language": "python",
   "name": "python3"
  },
  "language_info": {
   "codemirror_mode": {
    "name": "ipython",
    "version": 3
   },
   "file_extension": ".py",
   "mimetype": "text/x-python",
   "name": "python",
   "nbconvert_exporter": "python",
   "pygments_lexer": "ipython3",
   "version": "3.10.6"
  }
 },
 "nbformat": 4,
 "nbformat_minor": 2
}
